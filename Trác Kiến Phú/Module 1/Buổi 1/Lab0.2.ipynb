{
 "cells": [
  {
   "cell_type": "markdown",
   "id": "f1d73315-b4d5-43ef-8f00-57f7c8daa7ed",
   "metadata": {},
   "source": [
    "# MARKDOWN PRACTICE\n",
    "#### Nội dung 1\n",
    "#### Nội dung 2"
   ]
  },
  {
   "cell_type": "markdown",
   "id": "e550cf21-0294-4ab8-963c-d239b3b39f5e",
   "metadata": {},
   "source": [
    "# [Markdown](https://www.markdownguide.org/) Practice\n",
    "#### **Văn bản 1**\n",
    "#### Văn bản 2"
   ]
  },
  {
   "cell_type": "markdown",
   "id": "b0645a06-c7b1-4572-94f8-3196eb0c87a3",
   "metadata": {},
   "source": [
    "# **Bài 3 Tạo Danh Sách**\n",
    "## Tạo danh sách\n",
    "1. Số 1\n",
    "2. Số 2\n",
    "3. Số 3\n",
    "## Tạo danh sách 2\n",
    "* Số 1\n",
    "* Số 2\n",
    "* Số 3"
   ]
  },
  {
   "cell_type": "markdown",
   "id": "417dd946-f58f-4fe2-8418-f480c3796b07",
   "metadata": {},
   "source": [
    "# Hình ảnh \n",
    "\n",
    "![superman.jpg](attachment:c0851ce6-2bc4-47ca-9ad0-ddc2c5648f74.jpg)\n",
    "###### **Superman**"
   ]
  },
  {
   "cell_type": "markdown",
   "id": "f621d8ab-e0b6-4758-9cd7-ca77761594d4",
   "metadata": {},
   "source": [
    "# Tạo bảng nè\n",
    "| **STT** | **Tác giả** | **Tác phẩm** |\n",
    "|---------|-------------|--------------|\n",
    "|  Alex   |    Adam     |    haha      |\n",
    "|  Lee    |     Yob     |     go       |"
   ]
  },
  {
   "cell_type": "markdown",
   "id": "4b1f0947-bd3c-48c5-a69e-f787ce5fc21d",
   "metadata": {},
   "source": [
    "> Câu trích dẫn"
   ]
  },
  {
   "cell_type": "code",
   "execution_count": null,
   "id": "75ddcccb-6d68-4d9b-beb6-ba92ff8c8683",
   "metadata": {},
   "outputs": [],
   "source": []
  }
 ],
 "metadata": {
  "kernelspec": {
   "display_name": "Python 3 (ipykernel)",
   "language": "python",
   "name": "python3"
  },
  "language_info": {
   "codemirror_mode": {
    "name": "ipython",
    "version": 3
   },
   "file_extension": ".py",
   "mimetype": "text/x-python",
   "name": "python",
   "nbconvert_exporter": "python",
   "pygments_lexer": "ipython3",
   "version": "3.11.7"
  }
 },
 "nbformat": 4,
 "nbformat_minor": 5
}
